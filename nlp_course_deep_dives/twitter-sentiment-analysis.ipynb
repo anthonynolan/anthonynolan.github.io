{
 "cells": [
  {
   "cell_type": "code",
   "execution_count": 1,
   "metadata": {},
   "outputs": [],
   "source": [
    "from nltk.corpus import twitter_samples\n",
    "from sklearn.model_selection import train_test_split\n",
    "from sklearn.linear_model import LogisticRegression\n",
    "import numpy as np"
   ]
  },
  {
   "cell_type": "code",
   "execution_count": 2,
   "metadata": {},
   "outputs": [],
   "source": [
    "# https://www.nltk.org/_modules/nltk/corpus/reader/twitter.html\n",
    "#https://www.nltk.org/api/nltk.corpus.reader.html#nltk.corpus.reader.twitter.TwitterCorpusReader\n",
    "positive_tweets = twitter_samples.strings('positive_tweets.json')\n",
    "negative_tweets = twitter_samples.strings('negative_tweets.json')\n",
    "positive_tweets = [tweet.lower() for tweet in positive_tweets]\n",
    "negative_tweets = [tweet.lower() for tweet in negative_tweets]"
   ]
  },
  {
   "cell_type": "code",
   "execution_count": 3,
   "metadata": {},
   "outputs": [],
   "source": [
    "def process_tweet(tweet, freqs):\n",
    "    feature = [0, 0]\n",
    "    for word in tweet.lower().split():\n",
    "        if (word, 1) in freqs:\n",
    "            feature[1]+=freqs[(word, 1)]\n",
    "        if (word, 0) in freqs:\n",
    "            feature[0]+=freqs[(word, 0)]\n",
    "    return feature"
   ]
  },
  {
   "cell_type": "code",
   "execution_count": 4,
   "metadata": {},
   "outputs": [],
   "source": [
    "def build_dataset(freqs):\n",
    "    data = np.zeros([len(positive_tweets)+len(negative_tweets), 3])\n",
    "\n",
    "    for i, tweet in enumerate(positive_tweets):\n",
    "        feature = process_tweet(tweet, freqs)\n",
    "        data[i, 0] = feature[0]\n",
    "        data[i, 1] = feature[1]\n",
    "        data[i, 2] = 1\n",
    "\n",
    "    for i, tweet in enumerate(negative_tweets):\n",
    "        feature = process_tweet(tweet, freqs)\n",
    "        data[i+5000, 0] = feature[0]\n",
    "        data[i+5000, 1] = feature[1]\n",
    "        data[i+5000, 2] = 0\n",
    "\n",
    "    Xs = data[:,0:2]\n",
    "    ys = data[:,2]\n",
    "    return Xs, ys"
   ]
  },
  {
   "cell_type": "code",
   "execution_count": 5,
   "metadata": {},
   "outputs": [],
   "source": [
    "def create_frequency_table():\n",
    "    freqs = {}\n",
    "    index = 0\n",
    "    all_tweets = [negative_tweets, positive_tweets]\n",
    "    for tweet_list in all_tweets:\n",
    "\n",
    "        for tweet in tweet_list:\n",
    "            for word in tweet.split():\n",
    "                if (word, index) in freqs.keys():\n",
    "                    freqs[(word, index)]+=1\n",
    "                else:\n",
    "                    freqs[(word, index)]=1\n",
    "        index+=1\n",
    "                \n",
    "    return freqs"
   ]
  },
  {
   "cell_type": "code",
   "execution_count": 6,
   "metadata": {},
   "outputs": [],
   "source": [
    "freqs = create_frequency_table()\n",
    "Xs, ys = build_dataset(freqs)\n"
   ]
  },
  {
   "cell_type": "code",
   "execution_count": 7,
   "metadata": {},
   "outputs": [],
   "source": [
    "X_train, X_test, y_train, y_test = train_test_split(Xs, ys, test_size=.2, random_state=1)"
   ]
  },
  {
   "cell_type": "code",
   "execution_count": 8,
   "metadata": {},
   "outputs": [
    {
     "data": {
      "text/plain": [
       "0.9415"
      ]
     },
     "execution_count": 8,
     "metadata": {},
     "output_type": "execute_result"
    }
   ],
   "source": [
    "lr = LogisticRegression(random_state=1)\n",
    "lr.fit(X_train, y_train)\n",
    "lr.score(X_test, y_test)"
   ]
  },
  {
   "cell_type": "code",
   "execution_count": 9,
   "metadata": {},
   "outputs": [
    {
     "data": {
      "text/plain": [
       "[2184, 1064]"
      ]
     },
     "execution_count": 9,
     "metadata": {},
     "output_type": "execute_result"
    }
   ],
   "source": [
    "process_tweet(\"I\", freqs)"
   ]
  },
  {
   "cell_type": "code",
   "execution_count": 13,
   "metadata": {},
   "outputs": [
    {
     "data": {
      "text/plain": [
       "array([0.])"
      ]
     },
     "execution_count": 13,
     "metadata": {},
     "output_type": "execute_result"
    }
   ],
   "source": [
    "lr.predict(np.array(process_tweet(\"beautiful\", freqs)).reshape(1,-1))"
   ]
  },
  {
   "cell_type": "code",
   "execution_count": 12,
   "metadata": {},
   "outputs": [
    {
     "data": {
      "text/plain": [
       "39"
      ]
     },
     "execution_count": 12,
     "metadata": {},
     "output_type": "execute_result"
    }
   ],
   "source": [
    "freqs[('beautiful', 1)]"
   ]
  },
  {
   "cell_type": "code",
   "execution_count": 17,
   "metadata": {},
   "outputs": [
    {
     "data": {
      "text/plain": [
       "<matplotlib.collections.PathCollection at 0x129ee7bd0>"
      ]
     },
     "execution_count": 17,
     "metadata": {},
     "output_type": "execute_result"
    },
    {
     "data": {
      "image/png": "[encoded data removed]",
      "text/plain": [
       "<Figure size 432x288 with 1 Axes>"
      ]
     },
     "metadata": {
      "needs_background": "light"
     },
     "output_type": "display_data"
    }
   ],
   "source": [
    "import matplotlib.pyplot as plt\n",
    "plt.scatter(Xs[:,0], Xs[:, 1])"
   ]
  },
  {
   "cell_type": "code",
   "execution_count": null,
   "metadata": {},
   "outputs": [],
   "source": []
  }
 ],
 "metadata": {
  "kernelspec": {
   "display_name": "Python 3",
   "language": "python",
   "name": "python3"
  },
  "language_info": {
   "codemirror_mode": {
    "name": "ipython",
    "version": 3
   },
   "file_extension": ".py",
   "mimetype": "text/x-python",
   "name": "python",
   "nbconvert_exporter": "python",
   "pygments_lexer": "ipython3",
   "version": "3.7.5"
  }
 },
 "nbformat": 4,
 "nbformat_minor": 4
}
